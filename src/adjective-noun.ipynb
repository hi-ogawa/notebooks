{
 "cells": [
  {
   "cell_type": "code",
   "execution_count": 1,
   "id": "ac2252a9",
   "metadata": {},
   "outputs": [
    {
     "name": "stderr",
     "output_type": "stream",
     "text": [
      "  % Total    % Received % Xferd  Average Speed   Time    Time     Time  Current\n",
      "                                 Dload  Upload   Total   Spent    Left  Speed\n",
      "\r",
      "  0     0    0     0    0     0      0      0 --:--:-- --:--:-- --:--:--     0\r",
      "100   164  100   164    0     0    557      0 --:--:-- --:--:-- --:--:--   559\n",
      "\r",
      " 54 1249k   54  677k    0     0   806k      0  0:00:01 --:--:--  0:00:01  806k\r",
      "100 1249k  100 1249k    0     0  1223k      0  0:00:01  0:00:01 --:--:-- 3161k\n",
      "  % Total    % Received % Xferd  Average Speed   Time    Time     Time  Current\n",
      "                                 Dload  Upload   Total   Spent    Left  Speed\n",
      "\r",
      "  0     0    0     0    0     0      0      0 --:--:-- --:--:-- --:--:--     0\r",
      "100   165  100   165    0     0    588      0 --:--:-- --:--:-- --:--:--   589\n",
      "\r",
      " 44 1249k   44  559k    0     0   698k      0  0:00:01 --:--:--  0:00:01  698k\r",
      "100 1249k  100 1249k    0     0  1153k      0  0:00:01  0:00:01 --:--:-- 2446k\n",
      "  % Total    % Received % Xferd  Average Speed   Time    Time     Time  Current\n",
      "                                 Dload  Upload   Total   Spent    Left  Speed\n",
      "\r",
      "  0     0    0     0    0     0      0      0 --:--:-- --:--:-- --:--:--     0\r",
      "100   166  100   166    0     0    319      0 --:--:-- --:--:-- --:--:--   319\n",
      "\r",
      "  0     0    0     0    0     0      0      0 --:--:-- --:--:-- --:--:--     0\r",
      "100 7935k  100 7935k    0     0  4769k      0  0:00:01  0:00:01 --:--:-- 8486k\n",
      "  % Total    % Received % Xferd  Average Speed   Time    Time     Time  Current\n",
      "                                 Dload  Upload   Total   Spent    Left  Speed\n",
      "\r",
      "  0     0    0     0    0     0      0      0 --:--:-- --:--:-- --:--:--     0\r",
      "  0     0    0     0    0     0      0      0 --:--:-- --:--:-- --:--:--     0\r",
      "100   164  100   164    0     0    562      0 --:--:-- --:--:-- --:--:--   561\n",
      "\r",
      " 59 1672k   59  999k    0     0   979k      0  0:00:01  0:00:01 --:--:--  979k\r",
      "100 1672k  100 1672k    0     0  1336k      0  0:00:01  0:00:01 --:--:-- 2924k\n",
      "  % Total    % Received % Xferd  Average Speed   Time    Time     Time  Current\n",
      "                                 Dload  Upload   Total   Spent    Left  Speed\n",
      "\r",
      "  0     0    0     0    0     0      0      0 --:--:-- --:--:-- --:--:--     0\r",
      "100   165  100   165    0     0    617      0 --:--:-- --:--:-- --:--:--   617\n",
      "\r",
      " 38 1673k   38  641k    0     0   840k      0  0:00:01 --:--:--  0:00:01  840k\r",
      "100 1673k  100 1673k    0     0  1511k      0  0:00:01  0:00:01 --:--:-- 2999k\n",
      "  % Total    % Received % Xferd  Average Speed   Time    Time     Time  Current\n",
      "                                 Dload  Upload   Total   Spent    Left  Speed\n",
      "\r",
      "  0     0    0     0    0     0      0      0 --:--:-- --:--:-- --:--:--     0\r",
      "100   166  100   166    0     0    523      0 --:--:-- --:--:-- --:--:--   525\n",
      "\r",
      "  0 12.8M    0   858    0     0   1215      0  3:04:49 --:--:--  3:04:49  1215\r",
      " 77 12.8M   77  9.9M    0     0  6212k      0  0:00:02  0:00:01  0:00:01 10.6M\r",
      "100 12.8M  100 12.8M    0     0  6633k      0  0:00:01  0:00:01 --:--:-- 10.0M\n"
     ]
    }
   ],
   "source": [
    "%%bash\n",
    "\n",
    "#\n",
    "# Download UniversalDependencies dataset\n",
    "#\n",
    "\n",
    "# cf.\n",
    "# - https://universaldependencies.org/#english-treebanks\n",
    "# - https://universaldependencies.org/tools.html#conllu\n",
    "\n",
    "urls=(\n",
    "    https://github.com/UniversalDependencies/UD_English-GUM/raw/master/en_gum-ud-dev.conllu\n",
    "    https://github.com/UniversalDependencies/UD_English-GUM/raw/master/en_gum-ud-test.conllu\n",
    "    https://github.com/UniversalDependencies/UD_English-GUM/raw/master/en_gum-ud-train.conllu\n",
    "    https://github.com/UniversalDependencies/UD_English-EWT/raw/master/en_ewt-ud-dev.conllu\n",
    "    https://github.com/UniversalDependencies/UD_English-EWT/raw/master/en_ewt-ud-test.conllu    \n",
    "    https://github.com/UniversalDependencies/UD_English-EWT/raw/master/en_ewt-ud-train.conllu\n",
    ")\n",
    "\n",
    "outfile=../data/en.conllu\n",
    "\n",
    "rm -f \"$outfile\"\n",
    "\n",
    "for url in \"${urls[@]}\"; do\n",
    "    curl -L \"$url\" >> \"$outfile\"\n",
    "    printf '\\n' >> \"$outfile\"\n",
    "done"
   ]
  },
  {
   "cell_type": "code",
   "execution_count": 2,
   "id": "4c838e0e",
   "metadata": {},
   "outputs": [
    {
     "data": {
      "text/plain": [
       "24023"
      ]
     },
     "execution_count": 2,
     "metadata": {},
     "output_type": "execute_result"
    }
   ],
   "source": [
    "#\n",
    "# Read dataset (annotated sentences)\n",
    "#\n",
    "\n",
    "import conllu\n",
    "\n",
    "outfile = \"../data/en.conllu\"\n",
    "dataset = list(conllu.parse_incr(open(outfile)))\n",
    "len(dataset)"
   ]
  },
  {
   "cell_type": "code",
   "execution_count": 3,
   "id": "32e98aa7",
   "metadata": {},
   "outputs": [
    {
     "data": {
      "text/plain": [
       "394396"
      ]
     },
     "execution_count": 3,
     "metadata": {},
     "output_type": "execute_result"
    }
   ],
   "source": [
    "tokens = []\n",
    "for sentence in dataset:\n",
    "    for token in sentence:\n",
    "        tokens.append(token)\n",
    "len(tokens)"
   ]
  },
  {
   "cell_type": "code",
   "execution_count": 4,
   "id": "35555ae7",
   "metadata": {},
   "outputs": [],
   "source": [
    "#\n",
    "# View data with pandas\n",
    "#\n",
    "import IPython\n",
    "import numpy as np\n",
    "import pandas as pd\n",
    "import matplotlib.pyplot as plt\n",
    "import ipywidgets as ipyw\n",
    "import functools"
   ]
  },
  {
   "cell_type": "code",
   "execution_count": 5,
   "id": "4da70d7b",
   "metadata": {},
   "outputs": [
    {
     "data": {
      "text/html": [
       "<div>\n",
       "<style scoped>\n",
       "    .dataframe tbody tr th:only-of-type {\n",
       "        vertical-align: middle;\n",
       "    }\n",
       "\n",
       "    .dataframe tbody tr th {\n",
       "        vertical-align: top;\n",
       "    }\n",
       "\n",
       "    .dataframe thead th {\n",
       "        text-align: right;\n",
       "    }\n",
       "</style>\n",
       "<table border=\"1\" class=\"dataframe\">\n",
       "  <thead>\n",
       "    <tr style=\"text-align: right;\">\n",
       "      <th></th>\n",
       "      <th>id</th>\n",
       "      <th>form</th>\n",
       "      <th>lemma</th>\n",
       "      <th>upos</th>\n",
       "      <th>xpos</th>\n",
       "      <th>feats</th>\n",
       "      <th>head</th>\n",
       "      <th>deprel</th>\n",
       "      <th>deps</th>\n",
       "      <th>misc</th>\n",
       "    </tr>\n",
       "  </thead>\n",
       "  <tbody>\n",
       "    <tr>\n",
       "      <th>0</th>\n",
       "      <td>1</td>\n",
       "      <td>Introduction</td>\n",
       "      <td>introduction</td>\n",
       "      <td>NOUN</td>\n",
       "      <td>NN</td>\n",
       "      <td>{'Number': 'Sing'}</td>\n",
       "      <td>0.0</td>\n",
       "      <td>root</td>\n",
       "      <td>[(root, 0)]</td>\n",
       "      <td>{'Discourse': 'preparation:1-&gt;29', 'Entity': '...</td>\n",
       "    </tr>\n",
       "    <tr>\n",
       "      <th>1</th>\n",
       "      <td>1</td>\n",
       "      <td>Research</td>\n",
       "      <td>research</td>\n",
       "      <td>NOUN</td>\n",
       "      <td>NN</td>\n",
       "      <td>{'Number': 'Sing'}</td>\n",
       "      <td>10.0</td>\n",
       "      <td>nsubj</td>\n",
       "      <td>[(nsubj, 10)]</td>\n",
       "      <td>{'Discourse': 'background:2-&gt;14', 'Entity': '(...</td>\n",
       "    </tr>\n",
       "    <tr>\n",
       "      <th>2</th>\n",
       "      <td>2</td>\n",
       "      <td>on</td>\n",
       "      <td>on</td>\n",
       "      <td>ADP</td>\n",
       "      <td>IN</td>\n",
       "      <td>None</td>\n",
       "      <td>5.0</td>\n",
       "      <td>case</td>\n",
       "      <td>[(case, 5)]</td>\n",
       "      <td>None</td>\n",
       "    </tr>\n",
       "    <tr>\n",
       "      <th>3</th>\n",
       "      <td>3</td>\n",
       "      <td>adult-learned</td>\n",
       "      <td>adult-learned</td>\n",
       "      <td>ADJ</td>\n",
       "      <td>JJ</td>\n",
       "      <td>{'Degree': 'Pos'}</td>\n",
       "      <td>5.0</td>\n",
       "      <td>amod</td>\n",
       "      <td>[(amod, 5)]</td>\n",
       "      <td>{'Entity': '(abstract-3'}</td>\n",
       "    </tr>\n",
       "  </tbody>\n",
       "</table>\n",
       "</div>"
      ],
      "text/plain": [
       "  id           form          lemma  upos xpos               feats  head  \\\n",
       "0  1   Introduction   introduction  NOUN   NN  {'Number': 'Sing'}   0.0   \n",
       "1  1       Research       research  NOUN   NN  {'Number': 'Sing'}  10.0   \n",
       "2  2             on             on   ADP   IN                None   5.0   \n",
       "3  3  adult-learned  adult-learned   ADJ   JJ   {'Degree': 'Pos'}   5.0   \n",
       "\n",
       "  deprel           deps                                               misc  \n",
       "0   root    [(root, 0)]  {'Discourse': 'preparation:1->29', 'Entity': '...  \n",
       "1  nsubj  [(nsubj, 10)]  {'Discourse': 'background:2->14', 'Entity': '(...  \n",
       "2   case    [(case, 5)]                                               None  \n",
       "3   amod    [(amod, 5)]                          {'Entity': '(abstract-3'}  "
      ]
     },
     "execution_count": 5,
     "metadata": {},
     "output_type": "execute_result"
    }
   ],
   "source": [
    "df = pd.DataFrame.from_records(tokens)\n",
    "df[:4]"
   ]
  },
  {
   "cell_type": "code",
   "execution_count": 6,
   "id": "59a20613",
   "metadata": {
    "scrolled": true
   },
   "outputs": [
    {
     "name": "stdout",
     "output_type": "stream",
     "text": [
      "len(df_noun) = 7656, len(df_adj) = 2806\n"
     ]
    }
   ],
   "source": [
    "#\n",
    "# Filter by POS and cleanup \n",
    "#\n",
    "\n",
    "def filter_tokens(df, upos):\n",
    "    is_upos = df[\"upos\"] == upos\n",
    "    df = df[is_upos]\n",
    "    df = df.drop_duplicates([\"lemma\"])\n",
    "    is_lower = df.apply(lambda x: x[\"lemma\"].islower() and x[\"lemma\"].isalpha(), axis=1)\n",
    "    df = df[is_lower]\n",
    "    return df\n",
    "\n",
    "df_noun = filter_tokens(df, \"NOUN\")\n",
    "df_adj = filter_tokens(df, \"ADJ\")\n",
    "\n",
    "print(f\"{len(df_noun) = }, {len(df_adj) = }\")"
   ]
  },
  {
   "cell_type": "code",
   "execution_count": 7,
   "id": "7a7c8f0f",
   "metadata": {},
   "outputs": [
    {
     "data": {
      "text/html": [
       "<div>\n",
       "<style scoped>\n",
       "    .dataframe tbody tr th:only-of-type {\n",
       "        vertical-align: middle;\n",
       "    }\n",
       "\n",
       "    .dataframe tbody tr th {\n",
       "        vertical-align: top;\n",
       "    }\n",
       "\n",
       "    .dataframe thead th {\n",
       "        text-align: right;\n",
       "    }\n",
       "</style>\n",
       "<table border=\"1\" class=\"dataframe\">\n",
       "  <thead>\n",
       "    <tr style=\"text-align: right;\">\n",
       "      <th></th>\n",
       "      <th>lemma</th>\n",
       "      <th>feats</th>\n",
       "      <th>misc</th>\n",
       "    </tr>\n",
       "  </thead>\n",
       "  <tbody>\n",
       "    <tr>\n",
       "      <th>0</th>\n",
       "      <td>introduction</td>\n",
       "      <td>{'Number': 'Sing'}</td>\n",
       "      <td>{'Discourse': 'preparation:1-&gt;29', 'Entity': '...</td>\n",
       "    </tr>\n",
       "    <tr>\n",
       "      <th>1</th>\n",
       "      <td>research</td>\n",
       "      <td>{'Number': 'Sing'}</td>\n",
       "      <td>{'Discourse': 'background:2-&gt;14', 'Entity': '(...</td>\n",
       "    </tr>\n",
       "    <tr>\n",
       "      <th>5</th>\n",
       "      <td>language</td>\n",
       "      <td>{'Number': 'Sing'}</td>\n",
       "      <td>{'Entity': 'abstract-3)'}</td>\n",
       "    </tr>\n",
       "    <tr>\n",
       "      <th>12</th>\n",
       "      <td>insight</td>\n",
       "      <td>{'Number': 'Sing'}</td>\n",
       "      <td>None</td>\n",
       "    </tr>\n",
       "    <tr>\n",
       "      <th>16</th>\n",
       "      <td>mechanism</td>\n",
       "      <td>{'Number': 'Plur'}</td>\n",
       "      <td>None</td>\n",
       "    </tr>\n",
       "    <tr>\n",
       "      <th>19</th>\n",
       "      <td>learning</td>\n",
       "      <td>{'Number': 'Sing'}</td>\n",
       "      <td>None</td>\n",
       "    </tr>\n",
       "    <tr>\n",
       "      <th>21</th>\n",
       "      <td>processing</td>\n",
       "      <td>{'Number': 'Sing'}</td>\n",
       "      <td>None</td>\n",
       "    </tr>\n",
       "    <tr>\n",
       "      <th>24</th>\n",
       "      <td>grammar</td>\n",
       "      <td>{'Number': 'Sing'}</td>\n",
       "      <td>{'Entity': 'abstract-4)abstract-5)abstract-6)a...</td>\n",
       "    </tr>\n",
       "    <tr>\n",
       "      <th>34</th>\n",
       "      <td>interest</td>\n",
       "      <td>{'Number': 'Sing'}</td>\n",
       "      <td>None</td>\n",
       "    </tr>\n",
       "    <tr>\n",
       "      <th>37</th>\n",
       "      <td>study</td>\n",
       "      <td>{'Number': 'Plur'}</td>\n",
       "      <td>{'Entity': '(abstract-10)'}</td>\n",
       "    </tr>\n",
       "    <tr>\n",
       "      <th>43</th>\n",
       "      <td>difficulty</td>\n",
       "      <td>{'Number': 'Plur'}</td>\n",
       "      <td>None</td>\n",
       "    </tr>\n",
       "    <tr>\n",
       "      <th>50</th>\n",
       "      <td>learner</td>\n",
       "      <td>{'Number': 'Plur'}</td>\n",
       "      <td>{'Entity': 'person-12)'}</td>\n",
       "    </tr>\n",
       "    <tr>\n",
       "      <th>54</th>\n",
       "      <td>level</td>\n",
       "      <td>{'Number': 'Plur'}</td>\n",
       "      <td>None</td>\n",
       "    </tr>\n",
       "    <tr>\n",
       "      <th>56</th>\n",
       "      <td>use</td>\n",
       "      <td>{'Number': 'Sing'}</td>\n",
       "      <td>{'Entity': '(event-14)'}</td>\n",
       "    </tr>\n",
       "    <tr>\n",
       "      <th>94</th>\n",
       "      <td>absence</td>\n",
       "      <td>{'Number': 'Sing'}</td>\n",
       "      <td>None</td>\n",
       "    </tr>\n",
       "  </tbody>\n",
       "</table>\n",
       "</div>"
      ],
      "text/plain": [
       "           lemma               feats  \\\n",
       "0   introduction  {'Number': 'Sing'}   \n",
       "1       research  {'Number': 'Sing'}   \n",
       "5       language  {'Number': 'Sing'}   \n",
       "12       insight  {'Number': 'Sing'}   \n",
       "16     mechanism  {'Number': 'Plur'}   \n",
       "19      learning  {'Number': 'Sing'}   \n",
       "21    processing  {'Number': 'Sing'}   \n",
       "24       grammar  {'Number': 'Sing'}   \n",
       "34      interest  {'Number': 'Sing'}   \n",
       "37         study  {'Number': 'Plur'}   \n",
       "43    difficulty  {'Number': 'Plur'}   \n",
       "50       learner  {'Number': 'Plur'}   \n",
       "54         level  {'Number': 'Plur'}   \n",
       "56           use  {'Number': 'Sing'}   \n",
       "94       absence  {'Number': 'Sing'}   \n",
       "\n",
       "                                                 misc  \n",
       "0   {'Discourse': 'preparation:1->29', 'Entity': '...  \n",
       "1   {'Discourse': 'background:2->14', 'Entity': '(...  \n",
       "5                           {'Entity': 'abstract-3)'}  \n",
       "12                                               None  \n",
       "16                                               None  \n",
       "19                                               None  \n",
       "21                                               None  \n",
       "24  {'Entity': 'abstract-4)abstract-5)abstract-6)a...  \n",
       "34                                               None  \n",
       "37                        {'Entity': '(abstract-10)'}  \n",
       "43                                               None  \n",
       "50                           {'Entity': 'person-12)'}  \n",
       "54                                               None  \n",
       "56                           {'Entity': '(event-14)'}  \n",
       "94                                               None  "
      ]
     },
     "metadata": {},
     "output_type": "display_data"
    }
   ],
   "source": [
    "def view_dataframe(df, page=0, per=15):\n",
    "    pd.options.display.max_rows = per\n",
    "    df = df[page * per:][:per]\n",
    "    IPython.display.display(df)\n",
    "\n",
    "\n",
    "def interact_dataframe(df):\n",
    "    view = functools.partial(view_dataframe, df)\n",
    "    setattr(view, \"__name__\", \"\")\n",
    "    ipyw.interact(view, page=(0, len(df)), per=(1, 100))\n",
    "\n",
    "\n",
    "columns = [\"lemma\", \"feats\", \"misc\"]\n",
    "\n",
    "# Interactively\n",
    "# interact_dataframe(df_noun[columns])\n",
    "\n",
    "view_dataframe(df_noun[columns])"
   ]
  },
  {
   "cell_type": "code",
   "execution_count": 8,
   "id": "566d7019",
   "metadata": {},
   "outputs": [
    {
     "data": {
      "image/png": "[encoded data removed]",
      "text/plain": [
       "<Figure size 1440x360 with 2 Axes>"
      ]
     },
     "metadata": {
      "needs_background": "light"
     },
     "output_type": "display_data"
    }
   ],
   "source": [
    "#\n",
    "# Plot length statistics \n",
    "#\n",
    "\n",
    "def plot(df, **kwargs):\n",
    "    ds = df.groupby(by=lambda i: len(df[\"lemma\"][i])).size()\n",
    "    ds.plot(kind=\"bar\", **kwargs)\n",
    "    \n",
    "\n",
    "def _():\n",
    "    fig, [ax0, ax1] = plt.subplots(1, 2, figsize=(20, 5))\n",
    "    ax0.set(title=f\"noun: {len(df_noun)}\")\n",
    "    ax1.set(title=f\"adj: {len(df_adj)}\")\n",
    "    plot(df_noun, ax=ax0)\n",
    "    plot(df_adj, ax=ax1)\n",
    "\n",
    "_()"
   ]
  },
  {
   "cell_type": "code",
   "execution_count": 9,
   "id": "1b2dc7b9",
   "metadata": {},
   "outputs": [
    {
     "name": "stdout",
     "output_type": "stream",
     "text": [
      "2806 7656\n",
      "22019 53640\n",
      "917 3458\n"
     ]
    },
    {
     "data": {
      "text/plain": [
       "'frothy right colony'"
      ]
     },
     "execution_count": 9,
     "metadata": {},
     "output_type": "execute_result"
    }
   ],
   "source": [
    "#\n",
    "# Generate random ADJ/NOUN \n",
    "#\n",
    "\n",
    "import random\n",
    "\n",
    "rand = random.SystemRandom()\n",
    "\n",
    "adjs = sorted(list(df_adj[\"lemma\"]))\n",
    "nouns = sorted(list(df_noun[\"lemma\"]))\n",
    "\n",
    "print(len(adjs), len(nouns))\n",
    "print(len(\"\".join(adjs)), len(\"\".join(nouns)))\n",
    "\n",
    "\n",
    "adjs2 = list(filter(lambda x: len(x) <= 6, adjs))\n",
    "nouns2 = list(filter(lambda x: len(x) <= 6, nouns))\n",
    "\n",
    "print(len(adjs2), len(nouns2))\n",
    "\n",
    "\n",
    "def generate(adjs, nouns):\n",
    "    adj = rand.sample(adjs, 2)\n",
    "    noun = rand.sample(nouns, 1)\n",
    "    return \" \".join(adj + noun)\n",
    "\n",
    "\n",
    "generate(adjs2, nouns2)"
   ]
  },
  {
   "cell_type": "code",
   "execution_count": 10,
   "id": "2541b1e5",
   "metadata": {},
   "outputs": [
    {
     "data": {
      "text/plain": [
       "'Sr1Aged3Prs4'"
      ]
     },
     "execution_count": 10,
     "metadata": {},
     "output_type": "execute_result"
    }
   ],
   "source": [
    "def flatten(xss):\n",
    "    ys = []\n",
    "    for xs in xss:\n",
    "        for x in xs:\n",
    "            ys.append(x)\n",
    "    return ys\n",
    "\n",
    "\n",
    "def generate_password(adjs, nouns):\n",
    "    adj = rand.sample(adjs, 2)\n",
    "    noun = rand.sample(nouns, 1)\n",
    "    words = map(str.capitalize, adj + noun)\n",
    "    nums = map(str, rand.sample(range(10), 3))\n",
    "    result = \"\".join(flatten(zip(words, nums)))\n",
    "    return result\n",
    "\n",
    "\n",
    "generate_password(adjs2, nouns2)"
   ]
  },
  {
   "cell_type": "code",
   "execution_count": 11,
   "id": "711205f6",
   "metadata": {},
   "outputs": [
    {
     "data": {
      "text/plain": [
       "61295"
      ]
     },
     "execution_count": 11,
     "metadata": {},
     "output_type": "execute_result"
    }
   ],
   "source": [
    "#\n",
    "# Export adj.txt and noun.txt\n",
    "#\n",
    "\n",
    "open(\"../data/adj.txt\", \"w\").write(\"\\n\".join(adjs))\n",
    "open(\"../data/noun.txt\", \"w\").write(\"\\n\".join(nouns))"
   ]
  }
 ],
 "metadata": {
  "kernelspec": {
   "display_name": "Python 3 (ipykernel)",
   "language": "python",
   "name": "python3"
  },
  "language_info": {
   "codemirror_mode": {
    "name": "ipython",
    "version": 3
   },
   "file_extension": ".py",
   "mimetype": "text/x-python",
   "name": "python",
   "nbconvert_exporter": "python",
   "pygments_lexer": "ipython3",
   "version": "3.9.6"
  }
 },
 "nbformat": 4,
 "nbformat_minor": 5
}
