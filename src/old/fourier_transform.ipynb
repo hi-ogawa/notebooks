{
 "cells": [
  {
   "cell_type": "code",
   "execution_count": 183,
   "metadata": {
    "scrolled": false
   },
   "outputs": [
    {
     "name": "stdout",
     "output_type": "stream",
     "text": [
      "[NbConvertApp] Converting notebook fourier_transform.ipynb to python\n",
      "[NbConvertApp] Writing 3944 bytes to fourier_transform.py\n"
     ]
    }
   ],
   "source": [
    "!jupyter nbconvert fourier_transform.ipynb --to python --no-prompt"
   ]
  },
  {
   "cell_type": "code",
   "execution_count": 4,
   "metadata": {},
   "outputs": [],
   "source": [
    "import numpy as np\n",
    "import matplotlib.pyplot as plt"
   ]
  },
  {
   "cell_type": "code",
   "execution_count": 5,
   "metadata": {},
   "outputs": [],
   "source": [
    "# DFT as basis change (i.e. C^N ~ C^N)\n",
    "def dft(f):\n",
    "    N,  = f.shape\n",
    "    index = np.arange(N)\n",
    "    nn, kk = np.meshgrid(index, index)\n",
    "    A = np.exp(- 1j * kk / N * 2 * np.pi * nn)\n",
    "    g = A @ f\n",
    "    return g\n",
    "\n",
    "def idft(g):\n",
    "    N,  = g.shape\n",
    "    index = np.arange(N)\n",
    "    kk, nn = np.meshgrid(index, index)\n",
    "    A = np.exp(1j * nn / N * 2 * np.pi * kk)\n",
    "    f = A @ g / N\n",
    "    return f\n",
    "\n",
    "def test_0():\n",
    "    f = np.random.randn(2**8)\n",
    "    assert np.allclose(idft(dft(f)), f)\n",
    "\n",
    "test_0()"
   ]
  },
  {
   "cell_type": "code",
   "execution_count": 32,
   "metadata": {
    "collapsed": true
   },
   "outputs": [
    {
     "name": "stdout",
     "output_type": "stream",
     "text": [
      ":: n = 0\n",
      "33.8 µs ± 102 ns per loop (mean ± std. dev. of 3 runs, 10000 loops each)\n",
      "\n",
      ":: n = 1\n",
      "55.8 µs ± 172 ns per loop (mean ± std. dev. of 3 runs, 10000 loops each)\n",
      "\n",
      ":: n = 2\n",
      "57.3 µs ± 361 ns per loop (mean ± std. dev. of 3 runs, 10000 loops each)\n",
      "\n",
      ":: n = 3\n",
      "61.1 µs ± 568 ns per loop (mean ± std. dev. of 3 runs, 10000 loops each)\n",
      "\n",
      ":: n = 4\n",
      "80.9 µs ± 824 ns per loop (mean ± std. dev. of 3 runs, 10000 loops each)\n",
      "\n",
      ":: n = 5\n",
      "134 µs ± 2.96 µs per loop (mean ± std. dev. of 3 runs, 10000 loops each)\n",
      "\n",
      ":: n = 6\n",
      "540 µs ± 18 µs per loop (mean ± std. dev. of 3 runs, 1000 loops each)\n",
      "\n",
      ":: n = 7\n",
      "1.81 ms ± 2.6 µs per loop (mean ± std. dev. of 3 runs, 1000 loops each)\n",
      "\n",
      ":: n = 8\n",
      "7.72 ms ± 111 µs per loop (mean ± std. dev. of 3 runs, 100 loops each)\n",
      "\n",
      ":: n = 9\n",
      "29.6 ms ± 2.2 ms per loop (mean ± std. dev. of 3 runs, 10 loops each)\n",
      "\n",
      ":: n = 10\n",
      "117 ms ± 298 µs per loop (mean ± std. dev. of 3 runs, 10 loops each)\n",
      "\n",
      ":: n = 11\n",
      "332 ms ± 3.52 ms per loop (mean ± std. dev. of 3 runs, 1 loop each)\n",
      "\n"
     ]
    }
   ],
   "source": [
    "# NOTE: 2**6 * 2**(2*12) = 1GiB\n",
    "for n in range(12):\n",
    "    print(f\":: n = {n}\")\n",
    "    _ = np.random.randn(2**n)\n",
    "    %timeit -r3 dft(_)\n",
    "    print()"
   ]
  },
  {
   "cell_type": "code",
   "execution_count": 193,
   "metadata": {},
   "outputs": [
    {
     "data": {
      "image/png": "[encoded data removed]",
      "text/plain": [
       "<Figure size 576x576 with 1 Axes>"
      ]
     },
     "metadata": {
      "needs_background": "light"
     },
     "output_type": "display_data"
    }
   ],
   "source": [
    "# DFT as Riemann-sum approx. of Fourier series (L^2([-A, A]) ~ l^2(Z))\n",
    "\n",
    "def make_sample():\n",
    "    # major code via harmonics (A, E, C#)\n",
    "    freqs = [110, 110 * 3, 110 * 5] \n",
    "    amps = [3, 2, 1]\n",
    "    duration = 1\n",
    "    sample_rate = 2**10\n",
    "    x = np.linspace(0, duration, duration * sample_rate, endpoint=False)\n",
    "    y = sum([ a * np.sin(2 * np.pi * f * x) for f, a in zip(freqs, amps) ])\n",
    "    # Add noise\n",
    "    y += np.random.normal(scale=1, size=x.shape)\n",
    "    return y, sample_rate\n",
    "\n",
    "def plot_fourier_series():\n",
    "    y, sample_rate = make_sample()\n",
    "    N, = y.shape\n",
    "    a = 1 / sample_rate # spacing of sample (just it was easier to analyze with this)\n",
    "    y_ = dft(y)\n",
    "\n",
    "    # Handle positive/negative parts of frequency \n",
    "    if N % 2 == 1:\n",
    "        K = int((N - 1) / 2)\n",
    "        freqs = np.arange(-K, K+1)\n",
    "        amp = np.concatenate([y_[K+1:], y_[:K+1]])\n",
    "    else:\n",
    "        K = int(N / 2)\n",
    "        freqs = np.arange(-K+1, K+1)\n",
    "        amp = np.concatenate([y_[K+1:], y_[:K+1]])\n",
    "\n",
    "\n",
    "    # Scale by some factors so that thery are Riemann-sum.\n",
    "    amp = np.sqrt(a / N) * amp\n",
    "    freqs = freqs / (N * a)\n",
    "    \n",
    "    fig, ax = plt.subplots(figsize=(8, 8))\n",
    "    import pandas as pd\n",
    "    df = pd.DataFrame({'frequency': freqs, 'Re': np.real(amp), 'Im': np.imag(amp)})\n",
    "    df.plot.line(x='frequency', y=['Re', 'Im'], ax=ax)\n",
    "\n",
    "plot_fourier_series()"
   ]
  },
  {
   "cell_type": "code",
   "execution_count": 159,
   "metadata": {},
   "outputs": [],
   "source": [
    "# Fast fourier transform\n",
    "def fft(f, leaf_size=5):\n",
    "    N, = f.shape\n",
    "    assert N == 2 ** (N.bit_length() - 1), 'N must be power of 2'\n",
    "    assert N >= 2 ** leaf_size\n",
    "\n",
    "    def dft_matrix(N):\n",
    "        index = np.arange(N)\n",
    "        nn, kk = np.meshgrid(index, index)\n",
    "        A = np.exp(- 1j * kk / N * 2 * np.pi * nn)    \n",
    "        return A    \n",
    "    \n",
    "    leaf_transform = dft_matrix(2**leaf_size)\n",
    "    \n",
    "    def _fft(f, g, N):\n",
    "        if N == 2**leaf_size:\n",
    "            np.matmul(leaf_transform, f, out=g)\n",
    "\n",
    "        else:\n",
    "            _N = N // 2\n",
    "            f_even  = f[0::2]\n",
    "            f_odd   = f[1::2]\n",
    "            g1 = g[:_N]\n",
    "            g2  = g[_N:]\n",
    "            _fft(f_even, g1, _N)\n",
    "            _fft(f_odd,  g2, _N)\n",
    "            # TODO: these should be all inplace\n",
    "            k = np.arange(_N)\n",
    "            e = np.exp(- 1j * k / N * 2 * np.pi)\n",
    "            _g1 = g1 + e * g2\n",
    "            _g2 = g1 - e * g2\n",
    "            np.copyto(g1, _g1)\n",
    "            np.copyto(g2, _g2)    \n",
    "    \n",
    "    g = np.empty_like(f)\n",
    "    _fft(f, g, N)\n",
    "    return g\n",
    "\n",
    "def test_1():\n",
    "    for n in range(12):\n",
    "        _ = np.random.randn(2**n) + 1j * np.random.randn(2**n)\n",
    "        assert np.allclose(dft(_), fft(_, leaf_size=0))\n",
    "        \n",
    "test_1()"
   ]
  },
  {
   "cell_type": "code",
   "execution_count": 162,
   "metadata": {
    "collapsed": true
   },
   "outputs": [
    {
     "name": "stdout",
     "output_type": "stream",
     "text": [
      ":: n = 3\n",
      ":: - dft\n",
      "136 µs ± 23 µs per loop (mean ± std. dev. of 3 runs, 3 loops each)\n",
      ":: - fft\n",
      "260 µs ± 156 µs per loop (mean ± std. dev. of 3 runs, 3 loops each)\n",
      "\n",
      ":: n = 4\n",
      ":: - dft\n",
      "219 µs ± 82 µs per loop (mean ± std. dev. of 3 runs, 3 loops each)\n",
      ":: - fft\n",
      "146 µs ± 68.1 µs per loop (mean ± std. dev. of 3 runs, 3 loops each)\n",
      "\n",
      ":: n = 5\n",
      ":: - dft\n",
      "207 µs ± 43.8 µs per loop (mean ± std. dev. of 3 runs, 3 loops each)\n",
      ":: - fft\n",
      "233 µs ± 90.2 µs per loop (mean ± std. dev. of 3 runs, 3 loops each)\n",
      "\n",
      ":: n = 6\n",
      ":: - dft\n",
      "556 µs ± 12 µs per loop (mean ± std. dev. of 3 runs, 3 loops each)\n",
      ":: - fft\n",
      "422 µs ± 11.3 µs per loop (mean ± std. dev. of 3 runs, 3 loops each)\n",
      "\n",
      ":: n = 7\n",
      ":: - dft\n",
      "1.87 ms ± 49 µs per loop (mean ± std. dev. of 3 runs, 3 loops each)\n",
      ":: - fft\n",
      "649 µs ± 17.6 µs per loop (mean ± std. dev. of 3 runs, 3 loops each)\n",
      "\n",
      ":: n = 8\n",
      ":: - dft\n",
      "7.02 ms ± 292 µs per loop (mean ± std. dev. of 3 runs, 3 loops each)\n",
      ":: - fft\n",
      "1.22 ms ± 25.3 µs per loop (mean ± std. dev. of 3 runs, 3 loops each)\n",
      "\n",
      ":: n = 9\n",
      ":: - dft\n",
      "28.2 ms ± 1.64 ms per loop (mean ± std. dev. of 3 runs, 3 loops each)\n",
      ":: - fft\n",
      "2.43 ms ± 56.3 µs per loop (mean ± std. dev. of 3 runs, 3 loops each)\n",
      "\n",
      ":: n = 10\n",
      ":: - dft\n",
      "125 ms ± 11 ms per loop (mean ± std. dev. of 3 runs, 3 loops each)\n",
      ":: - fft\n",
      "4.74 ms ± 35.2 µs per loop (mean ± std. dev. of 3 runs, 3 loops each)\n",
      "\n",
      ":: n = 11\n",
      ":: - dft\n",
      "329 ms ± 668 µs per loop (mean ± std. dev. of 3 runs, 3 loops each)\n",
      ":: - fft\n",
      "9.35 ms ± 91.5 µs per loop (mean ± std. dev. of 3 runs, 3 loops each)\n",
      "\n"
     ]
    }
   ],
   "source": [
    "leaf_size = 3\n",
    "for n in range(leaf_size, 12):\n",
    "    print(f\":: n = {n}\")\n",
    "    _ = np.random.randn(2**n) + 1j * np.random.randn(2**n)\n",
    "    print(\":: - dft\")\n",
    "    %timeit -n3 -r3 dft(_)\n",
    "    print(\":: - fft\")    \n",
    "    %timeit -n3 -r3 fft(_, leaf_size=leaf_size)\n",
    "    print()"
   ]
  },
  {
   "cell_type": "code",
   "execution_count": 167,
   "metadata": {
    "collapsed": true
   },
   "outputs": [
    {
     "name": "stdout",
     "output_type": "stream",
     "text": [
      ":: n = 20, leaf_size = 5\n",
      "1.26 s ± 14.7 ms per loop (mean ± std. dev. of 2 runs, 1 loop each)\n",
      "\n",
      ":: n = 20, leaf_size = 6\n",
      "1.51 s ± 9.45 ms per loop (mean ± std. dev. of 2 runs, 1 loop each)\n",
      "\n",
      ":: n = 20, leaf_size = 7\n",
      "1.12 s ± 10.3 ms per loop (mean ± std. dev. of 2 runs, 1 loop each)\n",
      "\n",
      ":: n = 20, leaf_size = 8\n",
      "942 ms ± 8.3 ms per loop (mean ± std. dev. of 2 runs, 1 loop each)\n",
      "\n",
      ":: n = 20, leaf_size = 9\n",
      "1.02 s ± 5.34 ms per loop (mean ± std. dev. of 2 runs, 1 loop each)\n",
      "\n",
      ":: n = 20, leaf_size = 10\n",
      "1.36 s ± 27.4 ms per loop (mean ± std. dev. of 2 runs, 1 loop each)\n",
      "\n"
     ]
    }
   ],
   "source": [
    "for leaf_size in range(5, 11):\n",
    "    n = 20\n",
    "    print(f\":: n = {n}, leaf_size = {leaf_size}\")\n",
    "    _ = np.random.randn(2**n) + 1j * np.random.randn(2**n)\n",
    "    %timeit -n1 -r2 fft(_, leaf_size=leaf_size)\n",
    "    print()"
   ]
  }
 ],
 "metadata": {
  "kernelspec": {
   "display_name": "Python 3",
   "language": "python",
   "name": "python3"
  },
  "language_info": {
   "codemirror_mode": {
    "name": "ipython",
    "version": 3
   },
   "file_extension": ".py",
   "mimetype": "text/x-python",
   "name": "python",
   "nbconvert_exporter": "python",
   "pygments_lexer": "ipython3",
   "version": "3.7.4"
  }
 },
 "nbformat": 4,
 "nbformat_minor": 2
}
